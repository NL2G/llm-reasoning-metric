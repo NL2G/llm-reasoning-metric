{
 "cells": [
  {
   "cell_type": "code",
   "execution_count": 1,
   "metadata": {},
   "outputs": [],
   "source": [
    "from mt_metrics_eval import data\n",
    "from itertools import combinations\n",
    "import pandas as pd\n",
    "import xxhash\n",
    "\n",
    "\n",
    "def example_id(src_lang, tgt_lang, src, ref, hyp, system):\n",
    "    return xxhash.xxh128_hexdigest(f'{src_lang}-{tgt_lang}@{system}##{src}##{ref}##{hyp}')"
   ]
  },
  {
   "cell_type": "code",
   "execution_count": 2,
   "metadata": {},
   "outputs": [],
   "source": [
    "def get_all_data(eval_set: data.EvalSet, score_name: str = 'mqm'):\n",
    "    result = []\n",
    "    src_lang = eval_set.src_lang\n",
    "    tgt_lang = eval_set.tgt_lang\n",
    "    scores = eval_set.Scores(level='seg', scorer=score_name)\n",
    "    hypotheses = eval_set.sys_outputs\n",
    "    systems = set(hypotheses.keys()) - {'synthetic_ref', 'refB'}\n",
    "    for i, (src, ref) in enumerate(zip(eval_set.src, eval_set.all_refs[eval_set.std_ref])):\n",
    "        for system in systems:\n",
    "            hyp = hypotheses[system][i]\n",
    "            score = scores[system][i]\n",
    "            if score is not None:\n",
    "                result.append({\n",
    "                    'lp': f\"{src_lang}-{tgt_lang}\",\n",
    "                    'src': src,\n",
    "                    'ref': ref,\n",
    "                    'hyp': hyp,\n",
    "                    'system': system,\n",
    "                    'score': score,\n",
    "                    'score_name': score_name,\n",
    "                    'example_id': example_id(src_lang, tgt_lang, src, ref, hyp, system)\n",
    "                })\n",
    "    return result\n",
    "    "
   ]
  },
  {
   "cell_type": "code",
   "execution_count": 3,
   "metadata": {},
   "outputs": [],
   "source": [
    "def get_lps(comp: str, score: str = 'mqm'):\n",
    "    lps = []\n",
    "    for lp, meta in data.meta_info.DATA[comp].items():\n",
    "        if 'seg' in meta.std_gold and meta.std_gold['seg'] == score:\n",
    "            lps.append(lp)\n",
    "\n",
    "    return lps"
   ]
  },
  {
   "cell_type": "code",
   "execution_count": 17,
   "metadata": {},
   "outputs": [
    {
     "data": {
      "text/plain": [
       "['cs-en', 'de-en', 'ja-en', 'ru-en', 'uk-en']"
      ]
     },
     "execution_count": 17,
     "metadata": {},
     "output_type": "execute_result"
    }
   ],
   "source": [
    "get_lps(\"wmt22\", 'wmt')"
   ]
  },
  {
   "cell_type": "code",
   "execution_count": 28,
   "metadata": {},
   "outputs": [],
   "source": [
    "wmt22_appraise = pd.concat([\n",
    "    pd.DataFrame(get_all_data(data.EvalSet('wmt22', lp), score_name='wmt-appraise')) for lp in get_lps('wmt22', 'wmt-appraise')\n",
    "])\n",
    "wmt22_appraise['source'] = \"wmt22_appraise\""
   ]
  },
  {
   "cell_type": "code",
   "execution_count": 29,
   "metadata": {},
   "outputs": [],
   "source": [
    "wmt22_mqm = pd.concat([\n",
    "    pd.DataFrame(get_all_data(data.EvalSet('wmt22', lp), score_name='mqm')) for lp in get_lps('wmt22', 'mqm')\n",
    "])\n",
    "wmt22_mqm['source'] = \"wmt22_mqm\""
   ]
  },
  {
   "cell_type": "code",
   "execution_count": 30,
   "metadata": {},
   "outputs": [],
   "source": [
    "wmt23_da_sqm = pd.concat([\n",
    "    pd.DataFrame(get_all_data(data.EvalSet('wmt23', lp), score_name='da-sqm')) for lp in get_lps('wmt23', 'da-sqm')\n",
    "])\n",
    "wmt23_da_sqm['source'] = \"wmt23_da_sqm\""
   ]
  },
  {
   "cell_type": "code",
   "execution_count": 31,
   "metadata": {},
   "outputs": [],
   "source": [
    "wmt23_mqm = pd.concat([\n",
    "    pd.DataFrame(get_all_data(data.EvalSet('wmt23', lp), score_name='mqm')) for lp in get_lps('wmt23', 'mqm')\n",
    "])\n",
    "wmt23_mqm['source'] = \"wmt23_mqm\""
   ]
  },
  {
   "cell_type": "code",
   "execution_count": 32,
   "metadata": {},
   "outputs": [
    {
     "name": "stderr",
     "output_type": "stream",
     "text": [
      "/home/hpc/v106be/v106be28/miniforge3/envs/llm-reason/lib/python3.11/site-packages/tqdm/auto.py:21: TqdmWarning: IProgress not found. Please update jupyter and ipywidgets. See https://ipywidgets.readthedocs.io/en/stable/user_install.html\n",
      "  from .autonotebook import tqdm as notebook_tqdm\n"
     ]
    }
   ],
   "source": [
    "import datasets as ds"
   ]
  },
  {
   "cell_type": "code",
   "execution_count": 34,
   "metadata": {},
   "outputs": [],
   "source": [
    "wmt = ds.DatasetDict({\n",
    "    'train': ds.Dataset.from_pandas(\n",
    "        pd.concat([\n",
    "            wmt22_appraise,\n",
    "            wmt22_mqm,\n",
    "            wmt23_da_sqm,\n",
    "            wmt23_mqm\n",
    "        ])\n",
    "    )\n",
    "})"
   ]
  },
  {
   "cell_type": "code",
   "execution_count": 36,
   "metadata": {},
   "outputs": [],
   "source": [
    "wmt = wmt.remove_columns(['__index_level_0__'])"
   ]
  },
  {
   "cell_type": "code",
   "execution_count": 38,
   "metadata": {},
   "outputs": [
    {
     "data": {
      "text/plain": [
       "Counter({'wmt23_da_sqm': 95214,\n",
       "         'wmt22_appraise': 91019,\n",
       "         'wmt22_mqm': 68890,\n",
       "         'wmt23_mqm': 35472})"
      ]
     },
     "execution_count": 38,
     "metadata": {},
     "output_type": "execute_result"
    }
   ],
   "source": [
    "from collections import Counter\n",
    "Counter(wmt['train']['source'])"
   ]
  },
  {
   "cell_type": "code",
   "execution_count": 39,
   "metadata": {},
   "outputs": [
    {
     "name": "stdout",
     "output_type": "stream",
     "text": [
      "Help on method push_to_hub in module datasets.dataset_dict:\n",
      "\n",
      "push_to_hub(repo_id, config_name: str = 'default', set_default: Optional[bool] = None, data_dir: Optional[str] = None, commit_message: Optional[str] = None, commit_description: Optional[str] = None, private: Optional[bool] = None, token: Optional[str] = None, revision: Optional[str] = None, create_pr: Optional[bool] = False, max_shard_size: Union[str, int, NoneType] = None, num_shards: Optional[dict[str, int]] = None, embed_external_files: bool = True) -> huggingface_hub.hf_api.CommitInfo method of datasets.dataset_dict.DatasetDict instance\n",
      "    Pushes the [`DatasetDict`] to the hub as a Parquet dataset.\n",
      "    The [`DatasetDict`] is pushed using HTTP requests and does not need to have neither git or git-lfs installed.\n",
      "    \n",
      "    Each dataset split will be pushed independently. The pushed dataset will keep the original split names.\n",
      "    \n",
      "    The resulting Parquet files are self-contained by default: if your dataset contains [`Image`] or [`Audio`]\n",
      "    data, the Parquet files will store the bytes of your images or audio files.\n",
      "    You can disable this by setting `embed_external_files` to False.\n",
      "    \n",
      "    Args:\n",
      "        repo_id (`str`):\n",
      "            The ID of the repository to push to in the following format: `<user>/<dataset_name>` or\n",
      "            `<org>/<dataset_name>`. Also accepts `<dataset_name>`, which will default to the namespace\n",
      "            of the logged-in user.\n",
      "        config_name (`str`):\n",
      "            Configuration name of a dataset. Defaults to \"default\".\n",
      "        set_default (`bool`, *optional*):\n",
      "            Whether to set this configuration as the default one. Otherwise, the default configuration is the one\n",
      "            named \"default\".\n",
      "        data_dir (`str`, *optional*):\n",
      "            Directory name that will contain the uploaded data files. Defaults to the `config_name` if different\n",
      "            from \"default\", else \"data\".\n",
      "    \n",
      "            <Added version=\"2.17.0\"/>\n",
      "        commit_message (`str`, *optional*):\n",
      "            Message to commit while pushing. Will default to `\"Upload dataset\"`.\n",
      "        commit_description (`str`, *optional*):\n",
      "            Description of the commit that will be created.\n",
      "            Additionally, description of the PR if a PR is created (`create_pr` is True).\n",
      "    \n",
      "            <Added version=\"2.16.0\"/>\n",
      "        private (`bool`, *optional*):\n",
      "            Whether to make the repo private. If `None` (default), the repo will be public unless the\n",
      "            organization's default is private. This value is ignored if the repo already exists.\n",
      "        token (`str`, *optional*):\n",
      "            An optional authentication token for the Hugging Face Hub. If no token is passed, will default\n",
      "            to the token saved locally when logging in with `huggingface-cli login`. Will raise an error\n",
      "            if no token is passed and the user is not logged-in.\n",
      "        revision (`str`, *optional*):\n",
      "            Branch to push the uploaded files to. Defaults to the `\"main\"` branch.\n",
      "    \n",
      "            <Added version=\"2.15.0\"/>\n",
      "        create_pr (`bool`, *optional*, defaults to `False`):\n",
      "            Whether to create a PR with the uploaded files or directly commit.\n",
      "    \n",
      "            <Added version=\"2.15.0\"/>\n",
      "        max_shard_size (`int` or `str`, *optional*, defaults to `\"500MB\"`):\n",
      "            The maximum size of the dataset shards to be uploaded to the hub. If expressed as a string, needs to be digits followed by a unit\n",
      "            (like `\"500MB\"` or `\"1GB\"`).\n",
      "        num_shards (`Dict[str, int]`, *optional*):\n",
      "            Number of shards to write. By default, the number of shards depends on `max_shard_size`.\n",
      "            Use a dictionary to define a different num_shards for each split.\n",
      "    \n",
      "            <Added version=\"2.8.0\"/>\n",
      "        embed_external_files (`bool`, defaults to `True`):\n",
      "            Whether to embed file bytes in the shards.\n",
      "            In particular, this will do the following before the push for the fields of type:\n",
      "    \n",
      "            - [`Audio`] and [`Image`] removes local path information and embed file content in the Parquet files.\n",
      "    \n",
      "    Return:\n",
      "        huggingface_hub.CommitInfo\n",
      "    \n",
      "    Example:\n",
      "    \n",
      "    ```python\n",
      "    >>> dataset_dict.push_to_hub(\"<organization>/<dataset_id>\")\n",
      "    >>> dataset_dict.push_to_hub(\"<organization>/<dataset_id>\", private=True)\n",
      "    >>> dataset_dict.push_to_hub(\"<organization>/<dataset_id>\", max_shard_size=\"1GB\")\n",
      "    >>> dataset_dict.push_to_hub(\"<organization>/<dataset_id>\", num_shards={\"train\": 1024, \"test\": 8})\n",
      "    ```\n",
      "    \n",
      "    If you want to add a new configuration (or subset) to a dataset (e.g. if the dataset has multiple tasks/versions/languages):\n",
      "    \n",
      "    ```python\n",
      "    >>> english_dataset.push_to_hub(\"<organization>/<dataset_id>\", \"en\")\n",
      "    >>> french_dataset.push_to_hub(\"<organization>/<dataset_id>\", \"fr\")\n",
      "    >>> # later\n",
      "    >>> english_dataset = load_dataset(\"<organization>/<dataset_id>\", \"en\")\n",
      "    >>> french_dataset = load_dataset(\"<organization>/<dataset_id>\", \"fr\")\n",
      "    ```\n",
      "\n"
     ]
    }
   ],
   "source": [
    "help(wmt.push_to_hub)"
   ]
  },
  {
   "cell_type": "code",
   "execution_count": 40,
   "metadata": {},
   "outputs": [
    {
     "name": "stderr",
     "output_type": "stream",
     "text": [
      "Creating parquet from Arrow format: 100%|██████████| 291/291 [00:00<00:00, 1667.19ba/s]\n",
      "Uploading files as a binary IO buffer is not supported by Xet Storage. Falling back to HTTP upload.\n",
      "/home/hpc/v106be/v106be28/miniforge3/envs/llm-reason/lib/python3.11/site-packages/huggingface_hub/lfs.py:337: UserWarning: hf_transfer is enabled but does not support uploading from bytes or BinaryIO, falling back to regular upload\n",
      "  warnings.warn(\n",
      "100%|██████████| 1/1 [00:02<00:00,  2.16s/it]\n",
      "Uploading the dataset shards: 100%|██████████| 1/1 [00:02<00:00,  2.79s/it]\n"
     ]
    },
    {
     "data": {
      "text/plain": [
       "CommitInfo(commit_url='https://huggingface.co/datasets/Rexhaif/wmt22-23/commit/f3fdd29c8cb1f63816b694490fab25979c58216e', commit_message='Upload dataset', commit_description='', oid='f3fdd29c8cb1f63816b694490fab25979c58216e', pr_url=None, repo_url=RepoUrl('https://huggingface.co/datasets/Rexhaif/wmt22-23', endpoint='https://huggingface.co', repo_type='dataset', repo_id='Rexhaif/wmt22-23'), pr_revision=None, pr_num=None)"
      ]
     },
     "execution_count": 40,
     "metadata": {},
     "output_type": "execute_result"
    }
   ],
   "source": [
    "wmt.push_to_hub(\n",
    "    \"Rexhaif/wmt22-23\"\n",
    ")"
   ]
  }
 ],
 "metadata": {
  "kernelspec": {
   "display_name": "llm-reason",
   "language": "python",
   "name": "python3"
  },
  "language_info": {
   "codemirror_mode": {
    "name": "ipython",
    "version": 3
   },
   "file_extension": ".py",
   "mimetype": "text/x-python",
   "name": "python",
   "nbconvert_exporter": "python",
   "pygments_lexer": "ipython3",
   "version": "3.11.12"
  }
 },
 "nbformat": 4,
 "nbformat_minor": 2
}
