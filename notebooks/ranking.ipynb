{
 "cells": [
  {
   "cell_type": "code",
   "execution_count": 1,
   "metadata": {},
   "outputs": [],
   "source": [
    "import datasets as ds\n",
    "import pandas as pd\n",
    "from itertools import combinations\n",
    "from rich.progress import track\n",
    "from matplotlib import pyplot as plt\n",
    "from rich import print\n",
    "\n",
    "%matplotlib inline"
   ]
  },
  {
   "cell_type": "code",
   "execution_count": 2,
   "metadata": {},
   "outputs": [],
   "source": [
    "dataset = ds.load_dataset(\"Rexhaif/wmt23-24\")"
   ]
  },
  {
   "cell_type": "code",
   "execution_count": 3,
   "metadata": {},
   "outputs": [],
   "source": [
    "def make_pairs(dataset):\n",
    "    data = dataset.to_pandas()\n",
    "    result = []\n",
    "    for src, subset in track(data.groupby('src'), description='Processing', show_speed=True):\n",
    "        pairs = list(combinations(subset.to_dict(orient='records'), 2))\n",
    "        for item1, item2 in pairs:\n",
    "            result.append({\n",
    "                'lp': item1['lp'],\n",
    "                'dataset': \"mt-ranking\",\n",
    "                'src': item1['src'],\n",
    "                'ref': item1['ref'],\n",
    "                'hyp0': item1['hyp'],\n",
    "                'hyp1': item2['hyp'],\n",
    "                'score0': item1['score'],\n",
    "                'score1': item2['score'],\n",
    "                'system0': item1['system'],\n",
    "                'system1': item2['system'],\n",
    "                'score_diff': abs(abs(item1['score']) - abs(item2['score'])),\n",
    "                'score_name': item1['score_name'],\n",
    "                'best_hyp': 0 if item1['score'] > item2['score'] else 1,\n",
    "            })\n",
    "    return pd.DataFrame(result)\n"
   ]
  },
  {
   "cell_type": "code",
   "execution_count": 4,
   "metadata": {},
   "outputs": [
    {
     "data": {
      "application/vnd.jupyter.widget-view+json": {
       "model_id": "10892846cc9b4d16857974af986cac6e",
       "version_major": 2,
       "version_minor": 0
      },
      "text/plain": [
       "Output()"
      ]
     },
     "metadata": {},
     "output_type": "display_data"
    },
    {
     "data": {
      "text/html": [
       "<pre style=\"white-space:pre;overflow-x:auto;line-height:normal;font-family:Menlo,'DejaVu Sans Mono',consolas,'Courier New',monospace\"></pre>\n"
      ],
      "text/plain": []
     },
     "metadata": {},
     "output_type": "display_data"
    }
   ],
   "source": [
    "pairs_train = make_pairs(dataset['train'])"
   ]
  },
  {
   "cell_type": "code",
   "execution_count": 5,
   "metadata": {},
   "outputs": [],
   "source": [
    "pairs_train = pairs_train[pairs_train.lp != 'en-cs']"
   ]
  },
  {
   "cell_type": "code",
   "execution_count": 6,
   "metadata": {},
   "outputs": [
    {
     "data": {
      "text/plain": [
       "(148826, 13)"
      ]
     },
     "execution_count": 6,
     "metadata": {},
     "output_type": "execute_result"
    }
   ],
   "source": [
    "pairs_train[pairs_train.score_diff > 30].shape"
   ]
  },
  {
   "cell_type": "code",
   "execution_count": 7,
   "metadata": {},
   "outputs": [],
   "source": [
    "pairs_train = ds.Dataset.from_pandas(pairs_train)\n"
   ]
  },
  {
   "cell_type": "code",
   "execution_count": 8,
   "metadata": {},
   "outputs": [
    {
     "data": {
      "application/vnd.jupyter.widget-view+json": {
       "model_id": "cd9c094b64db4903ad93767df091ffcb",
       "version_major": 2,
       "version_minor": 0
      },
      "text/plain": [
       "Filter:   0%|          | 0/893383 [00:00<?, ? examples/s]"
      ]
     },
     "metadata": {},
     "output_type": "display_data"
    }
   ],
   "source": [
    "pairs_train = pairs_train.filter(lambda x: x['score_diff'] > 30)"
   ]
  },
  {
   "cell_type": "code",
   "execution_count": 9,
   "metadata": {},
   "outputs": [],
   "source": [
    "pairs_train = pairs_train.remove_columns(['__index_level_0__'])"
   ]
  },
  {
   "cell_type": "code",
   "execution_count": 10,
   "metadata": {},
   "outputs": [],
   "source": [
    "pairs_train = pairs_train.shuffle(seed=42)"
   ]
  },
  {
   "cell_type": "code",
   "execution_count": 14,
   "metadata": {},
   "outputs": [],
   "source": [
    "import sys\n",
    "sys.path.append('..')\n",
    "sys.path.append('../training')\n",
    "from metric_utils import DEFAULT_INSTRUCTION, JUDGE_PROMPT, LANG_CODES\n",
    "\n",
    "def transform_fn(example, tokenizer=None):\n",
    "        lang1, lang2 = example['lp'].split('-')\n",
    "        source_text = example['src']\n",
    "        instruction = DEFAULT_INSTRUCTION.format(\n",
    "            source_language=LANG_CODES[lang1],\n",
    "            target_language=LANG_CODES[lang2],\n",
    "            source_text=source_text\n",
    "        )\n",
    "\n",
    "        input_message = JUDGE_PROMPT.format(\n",
    "            instruction=instruction,\n",
    "            assistant_a_response=example[\"hyp0\"],\n",
    "            assistant_b_response=example[\"hyp1\"]\n",
    "        )\n",
    "\n",
    "        answer = \"A\" if example[\"best_hyp\"] == 0 else \"B\"\n",
    "        answer = f\"Chosen: {answer}\"\n",
    "\n",
    "        return {\n",
    "            \"messages\": [\n",
    "                {\"role\": \"system\", \"content\": \"You are a helpful translation evaluator. You will provide a verdict in a strict format, do not include any other text. Just word 'Chosen: A' or 'Chosen: B'.\"},\n",
    "                {\"role\": \"user\", \"content\": input_message},\n",
    "                {\"role\": \"assistant\", \"content\": answer}\n",
    "            ]\n",
    "        }"
   ]
  },
  {
   "cell_type": "code",
   "execution_count": 15,
   "metadata": {},
   "outputs": [
    {
     "data": {
      "text/plain": [
       "['lp',\n",
       " 'dataset',\n",
       " 'src',\n",
       " 'ref',\n",
       " 'hyp0',\n",
       " 'hyp1',\n",
       " 'score0',\n",
       " 'score1',\n",
       " 'system0',\n",
       " 'system1',\n",
       " 'score_diff',\n",
       " 'score_name',\n",
       " 'best_hyp']"
      ]
     },
     "execution_count": 15,
     "metadata": {},
     "output_type": "execute_result"
    }
   ],
   "source": [
    "pairs_train.column_names"
   ]
  },
  {
   "cell_type": "code",
   "execution_count": 17,
   "metadata": {},
   "outputs": [
    {
     "data": {
      "application/vnd.jupyter.widget-view+json": {
       "model_id": "378d01d9cb1b433f92f1a27c8056eb48",
       "version_major": 2,
       "version_minor": 0
      },
      "text/plain": [
       "Map:   0%|          | 0/148826 [00:00<?, ? examples/s]"
      ]
     },
     "metadata": {},
     "output_type": "display_data"
    }
   ],
   "source": [
    "pairs_train = pairs_train.map(transform_fn, remove_columns=pairs_train.column_names)"
   ]
  },
  {
   "cell_type": "code",
   "execution_count": 18,
   "metadata": {},
   "outputs": [
    {
     "data": {
      "application/vnd.jupyter.widget-view+json": {
       "model_id": "0253ead764cb472db1c01da7998d22fa",
       "version_major": 2,
       "version_minor": 0
      },
      "text/plain": [
       "Uploading the dataset shards:   0%|          | 0/1 [00:00<?, ?it/s]"
      ]
     },
     "metadata": {},
     "output_type": "display_data"
    },
    {
     "data": {
      "application/vnd.jupyter.widget-view+json": {
       "model_id": "f1a027081fac43cd84ec3958a6506a1e",
       "version_major": 2,
       "version_minor": 0
      },
      "text/plain": [
       "Creating parquet from Arrow format:   0%|          | 0/149 [00:00<?, ?ba/s]"
      ]
     },
     "metadata": {},
     "output_type": "display_data"
    },
    {
     "data": {
      "text/plain": [
       "CommitInfo(commit_url='https://huggingface.co/datasets/Rexhaif/wmt23-pairs-sft/commit/59aca222057a36d4f6b1ba484882ed96b631afdb', commit_message='Upload dataset', commit_description='', oid='59aca222057a36d4f6b1ba484882ed96b631afdb', pr_url=None, repo_url=RepoUrl('https://huggingface.co/datasets/Rexhaif/wmt23-pairs-sft', endpoint='https://huggingface.co', repo_type='dataset', repo_id='Rexhaif/wmt23-pairs-sft'), pr_revision=None, pr_num=None)"
      ]
     },
     "execution_count": 18,
     "metadata": {},
     "output_type": "execute_result"
    }
   ],
   "source": [
    "\n",
    "pairs_train.push_to_hub('Rexhaif/wmt23-pairs-sft')"
   ]
  }
 ],
 "metadata": {
  "kernelspec": {
   "display_name": ".venv",
   "language": "python",
   "name": "python3"
  },
  "language_info": {
   "codemirror_mode": {
    "name": "ipython",
    "version": 3
   },
   "file_extension": ".py",
   "mimetype": "text/x-python",
   "name": "python",
   "nbconvert_exporter": "python",
   "pygments_lexer": "ipython3",
   "version": "3.12.7"
  }
 },
 "nbformat": 4,
 "nbformat_minor": 2
}
