{
 "cells": [
  {
   "cell_type": "code",
   "execution_count": 2,
   "metadata": {},
   "outputs": [],
   "source": [
    "import datasets as ds"
   ]
  },
  {
   "cell_type": "code",
   "execution_count": 3,
   "metadata": {},
   "outputs": [
    {
     "data": {
      "application/vnd.jupyter.widget-view+json": {
       "model_id": "ce4c4744599348c68e6ec885829a4b71",
       "version_major": 2,
       "version_minor": 0
      },
      "text/plain": [
       "Generating train split: 0 examples [00:00, ? examples/s]"
      ]
     },
     "metadata": {},
     "output_type": "display_data"
    }
   ],
   "source": [
    "data = ds.Dataset.from_parquet(\"../data/files/mt-eval-test.parquet\")"
   ]
  },
  {
   "cell_type": "code",
   "execution_count": 5,
   "metadata": {},
   "outputs": [
    {
     "data": {
      "text/plain": [
       "{'data_source': 'mt-ranking',\n",
       " 'prompt': [{'content': 'You are a deep-thinking translation evaluator.\\nYou are given a source text and a pair of translations, and you need to evaluate them and answer which one is better through reasoning, step by step.\\nUse the following response format:\\n<think>\\n**your reasoning**\\n</think>\\n<answer>\\n\"Chosen: A\" if Assistant A is better or \"Chosen: B\" if Assistant B is better\\n</answer>',\n",
       "   'role': 'system'},\n",
       "  {'content': \"The user asked the two translation assistants, Assistant A and Assistant B, to translate the following source text from Chinese to English, maintaining the tone, accuracy and ensuring fluency:\\n[Start of Source Text]\\n我想，这个小说集，以及它的标题，像是一种行为艺术，作者想表达的是，爱情不止是舞台上的悲欢离合，都市传说中的海枯石烂，也不只是你侬我侬的如胶似漆，爱情不止是以上也不应该被以上代表，爱情也是平淡如水的生活，枯燥无味的日复一日，也有对生活的无措，现实的逃避，未来的茫然。\\n[End of Source Text]\\n\\n[Start of Assistant A's Response]\\nI think that this collection of novels, and its title, is like a kind of performance art, the author wants to express that love is not only the joy and sorrow on the stage, the sea dry stone rotten in urban legends, not only you non my non like glue, love is not only the above and should not be represented by the above, love is also a dull life, boring day after day, there is also a helplessness of life, escape from reality, and the dazedness of the future.\\n[End of Assistant A's Response]\\n\\n[Start of Assistant B's Response]\\nI think this collection of stories, and its title, is like a kind of performance art, the author wants to express that love is more than just the sadness and joy on the stage, the urban legend of the sea and the rocks, and not just you and me like glue, love is more than the above nor should it be represented by the above, love is also a life as plain as water, boring day by day, there is also the life of the unpreparedness, the reality of the escape, the future of the The future is uncertain.\\n[End of Assistant B's Response]\",\n",
       "   'role': 'user'}],\n",
       " 'ability': 'translation-eval',\n",
       " 'reward_model': {'ground_truth': 'A', 'style': 'rule'},\n",
       " 'extra_info': {'index': 999}}"
      ]
     },
     "execution_count": 5,
     "metadata": {},
     "output_type": "execute_result"
    }
   ],
   "source": [
    "data[-1]"
   ]
  },
  {
   "cell_type": "code",
   "execution_count": null,
   "metadata": {},
   "outputs": [],
   "source": []
  }
 ],
 "metadata": {
  "kernelspec": {
   "display_name": "llm-reason",
   "language": "python",
   "name": "python3"
  },
  "language_info": {
   "codemirror_mode": {
    "name": "ipython",
    "version": 3
   },
   "file_extension": ".py",
   "mimetype": "text/x-python",
   "name": "python",
   "nbconvert_exporter": "python",
   "pygments_lexer": "ipython3",
   "version": "3.11.12"
  }
 },
 "nbformat": 4,
 "nbformat_minor": 2
}
