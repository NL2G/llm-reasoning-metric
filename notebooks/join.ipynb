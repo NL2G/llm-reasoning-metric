{
 "cells": [
  {
   "cell_type": "code",
   "execution_count": 1,
   "metadata": {},
   "outputs": [],
   "source": [
    "import datasets as ds"
   ]
  },
  {
   "cell_type": "code",
   "execution_count": 2,
   "metadata": {},
   "outputs": [],
   "source": [
    "x = ds.concatenate_datasets([\n",
    "    ds.Dataset.from_parquet(\"../data/sft-clean/deepscaler.parquet\"),\n",
    "    ds.Dataset.from_parquet(\"../data/sft-clean/mt-da.parquet\"),\n",
    "    ds.Dataset.from_parquet(\"../data/sft-clean/mt-eval-train.parquet\"),\n",
    "    ds.Dataset.from_parquet(\"../data/sft-clean/mt-eval-val.parquet\"),\n",
    "    ds.Dataset.from_parquet(\"../data/sft-clean/wmt.parquet\"),\n",
    "])"
   ]
  },
  {
   "cell_type": "code",
   "execution_count": 3,
   "metadata": {},
   "outputs": [],
   "source": [
    "def add_unbounded_rf(example):\n",
    "    prompt = example[\"prompt\"]\n",
    "    prompt[0]['content'] = \"<reasoning_effort>unbounded</reasoning_effort>\\n\" + prompt[0]['content']\n",
    "    return {\n",
    "        'prompt': prompt,\n",
    "    }"
   ]
  },
  {
   "cell_type": "code",
   "execution_count": 4,
   "metadata": {},
   "outputs": [
    {
     "data": {
      "application/vnd.jupyter.widget-view+json": {
       "model_id": "6641bfa1773c47d09ebbd6a9701b4bda",
       "version_major": 2,
       "version_minor": 0
      },
      "text/plain": [
       "Map:   0%|          | 0/203393 [00:00<?, ? examples/s]"
      ]
     },
     "metadata": {},
     "output_type": "display_data"
    }
   ],
   "source": [
    "x = x.map(add_unbounded_rf)"
   ]
  },
  {
   "cell_type": "code",
   "execution_count": 5,
   "metadata": {},
   "outputs": [],
   "source": [
    "y = ds.concatenate_datasets([\n",
    "    ds.Dataset.from_parquet(\"../data/deepscaler.parquet\"),\n",
    "    ds.Dataset.from_parquet(\"../data/mt-da.parquet\"),\n",
    "    ds.Dataset.from_parquet(\"../data/mt-eval.parquet\"),\n",
    "    ds.Dataset.from_parquet(\"../data/wmt24-train.parquet\"),\n",
    "])"
   ]
  },
  {
   "cell_type": "code",
   "execution_count": 6,
   "metadata": {},
   "outputs": [],
   "source": [
    "def add_disabled_rf(example):\n",
    "    prompt = example[\"prompt\"]\n",
    "    prompt[0]['content'] = \"<reasoning_effort>disabled</reasoning_effort>\\n\" + prompt[0]['content']\n",
    "    return {\n",
    "        'prompt': prompt,\n",
    "    }\n",
    "\n",
    "def extract_gt(example):\n",
    "    ground_truth = example['reward_model']['ground_truth']\n",
    "    return {\n",
    "        'completion': f\"<think>\\n\\n</think>\\n<answer>\\n{ground_truth}\\n</answer>\",\n",
    "    }\n",
    "\n",
    "y = y.map(add_disabled_rf)\n",
    "y = y.map(extract_gt)"
   ]
  },
  {
   "cell_type": "code",
   "execution_count": 12,
   "metadata": {},
   "outputs": [],
   "source": [
    "y_ = y.train_test_split(test_size=0.02)"
   ]
  },
  {
   "cell_type": "code",
   "execution_count": 14,
   "metadata": {},
   "outputs": [
    {
     "data": {
      "text/plain": [
       "DatasetDict({\n",
       "    train: Dataset({\n",
       "        features: ['data_source', 'prompt', 'ability', 'reward_model', 'extra_info', 'completion'],\n",
       "        num_rows: 350076\n",
       "    })\n",
       "    test: Dataset({\n",
       "        features: ['data_source', 'prompt', 'ability', 'reward_model', 'extra_info', 'completion'],\n",
       "        num_rows: 7145\n",
       "    })\n",
       "})"
      ]
     },
     "execution_count": 14,
     "metadata": {},
     "output_type": "execute_result"
    }
   ],
   "source": [
    "y_"
   ]
  },
  {
   "cell_type": "code",
   "execution_count": 15,
   "metadata": {},
   "outputs": [],
   "source": [
    "data = ds.concatenate_datasets(\n",
    "    [\n",
    "        x, y_['train']\n",
    "    ]\n",
    ")"
   ]
  },
  {
   "cell_type": "code",
   "execution_count": 16,
   "metadata": {},
   "outputs": [
    {
     "data": {
      "application/vnd.jupyter.widget-view+json": {
       "model_id": "582349431d9e45018828a9bc32e5ff7d",
       "version_major": 2,
       "version_minor": 0
      },
      "text/plain": [
       "Map:   0%|          | 0/553469 [00:00<?, ? examples/s]"
      ]
     },
     "metadata": {},
     "output_type": "display_data"
    }
   ],
   "source": [
    "def merge(example):\n",
    "    return {\n",
    "        'multiturn': example['prompt'] + [{\"role\": \"assistant\", \"content\": example['completion']}],\n",
    "    }\n",
    "\n",
    "data = data.map(merge)"
   ]
  },
  {
   "cell_type": "code",
   "execution_count": 17,
   "metadata": {},
   "outputs": [
    {
     "data": {
      "application/vnd.jupyter.widget-view+json": {
       "model_id": "4739516ae3934a81a5b2a94f70b6b968",
       "version_major": 2,
       "version_minor": 0
      },
      "text/plain": [
       "Map:   0%|          | 0/7145 [00:00<?, ? examples/s]"
      ]
     },
     "metadata": {},
     "output_type": "display_data"
    }
   ],
   "source": [
    "test = y_['test'].map(merge)"
   ]
  },
  {
   "cell_type": "code",
   "execution_count": 18,
   "metadata": {},
   "outputs": [],
   "source": [
    "data = data.remove_columns([\n",
    "   'prompt', 'completion',\n",
    "])\n",
    "test = test.remove_columns([\n",
    "   'prompt', 'completion',\n",
    "])"
   ]
  },
  {
   "cell_type": "code",
   "execution_count": 24,
   "metadata": {},
   "outputs": [
    {
     "data": {
      "application/vnd.jupyter.widget-view+json": {
       "model_id": "e2eb842a7f274a96898de7a283887ce5",
       "version_major": 2,
       "version_minor": 0
      },
      "text/plain": [
       "Creating parquet from Arrow format:   0%|          | 0/554 [00:00<?, ?ba/s]"
      ]
     },
     "metadata": {},
     "output_type": "display_data"
    },
    {
     "data": {
      "application/vnd.jupyter.widget-view+json": {
       "model_id": "b13c6546992c4d7baacace287c098bb2",
       "version_major": 2,
       "version_minor": 0
      },
      "text/plain": [
       "Creating parquet from Arrow format:   0%|          | 0/8 [00:00<?, ?ba/s]"
      ]
     },
     "metadata": {},
     "output_type": "display_data"
    },
    {
     "data": {
      "text/plain": [
       "8833852"
      ]
     },
     "execution_count": 24,
     "metadata": {},
     "output_type": "execute_result"
    }
   ],
   "source": [
    "data = data.shuffle(seed=42)\n",
    "test = test.shuffle(seed=42)\n",
    "\n",
    "data.to_parquet(\"../data/sft-clean/train.parquet\")\n",
    "test.to_parquet(\"../data/sft-clean/test.parquet\")"
   ]
  },
  {
   "cell_type": "code",
   "execution_count": null,
   "metadata": {},
   "outputs": [],
   "source": []
  }
 ],
 "metadata": {
  "kernelspec": {
   "display_name": "llm-reason",
   "language": "python",
   "name": "python3"
  },
  "language_info": {
   "codemirror_mode": {
    "name": "ipython",
    "version": 3
   },
   "file_extension": ".py",
   "mimetype": "text/x-python",
   "name": "python",
   "nbconvert_exporter": "python",
   "pygments_lexer": "ipython3",
   "version": "3.11.12"
  }
 },
 "nbformat": 4,
 "nbformat_minor": 2
}
